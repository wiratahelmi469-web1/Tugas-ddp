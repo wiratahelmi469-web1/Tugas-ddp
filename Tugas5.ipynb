{
  "nbformat": 4,
  "nbformat_minor": 0,
  "metadata": {
    "colab": {
      "provenance": [],
      "authorship_tag": "ABX9TyPNuCX556jxLdNFhcMxc+gI",
      "include_colab_link": true
    },
    "kernelspec": {
      "name": "python3",
      "display_name": "Python 3"
    },
    "language_info": {
      "name": "python"
    }
  },
  "cells": [
    {
      "cell_type": "markdown",
      "metadata": {
        "id": "view-in-github",
        "colab_type": "text"
      },
      "source": [
        "<a href=\"https://colab.research.google.com/github/wiratahelmi469-web1/Tugas-ddp/blob/main/Tugas5.ipynb\" target=\"_parent\"><img src=\"https://colab.research.google.com/assets/colab-badge.svg\" alt=\"Open In Colab\"/></a>"
      ]
    },
    {
      "cell_type": "code",
      "execution_count": null,
      "metadata": {
        "colab": {
          "base_uri": "https://localhost:8080/"
        },
        "id": "IBYLpS_Cr3Ra",
        "outputId": "b7d1f2d4-05ed-4003-fa94-af9e21883b78"
      },
      "outputs": [
        {
          "output_type": "stream",
          "name": "stdout",
          "text": [
            "['beat', 'honda', 'motor', '70cc', 'hitam', 'roda dua', ['18 juta rupiah', 'matic']]\n"
          ]
        }
      ],
      "source": [
        "dataKendaraan = [\"beat\", \"motor\", \"70cc\" , \"hitam\", \"roda dua\"]\n",
        "dataKendaraan.append([\"18 juta rupiah\",\"matic\"])\n",
        "\n",
        "\n",
        "dataKendaraan.insert(1,\"honda\")\n",
        "print(dataKendaraan)"
      ]
    },
    {
      "cell_type": "code",
      "source": [
        "print(\"Pilih bangun datar yang ingin dihitung luasnya:\")\n",
        "print(\"1. Luas Persegi: \")\n",
        "print(\"2. Luas Lingkaran: \")\n",
        "print(\"3. Luas Segitiga: \")\n",
        "\n",
        "pilihan = int(input(\"Masukkan pilihan (1/2/3): \"))\n",
        "\n",
        "match pilihan:\n",
        "    case 1:\n",
        "        sisi = float(input(\"Masukkan panjang sisi: \"))\n",
        "        luas = sisi * sisi\n",
        "        print(f\"Luas persegi adalah {luas}\")\n",
        "    case 2:\n",
        "        jari_jari = float(input(\"Masukkan jari-jari lingkaran: \"))\n",
        "        luas = 3.14 * jari_jari * jari_jari\n",
        "        print(f\"Luas lingkaran adalah {luas}\")\n",
        "    case 3:\n",
        "        alas = float(input(\"Masukkan alas segitiga: \"))\n",
        "        tinggi = float(input(\"Masukkan tinggi segitiga: \"))\n",
        "        luas = 0.5 * alas * tinggi\n",
        "        print(f\"Luas segitiga adalah {luas}\")\n",
        "    case _:\n",
        "        print(\"Salah pilih! Silakan pilih 1, 2, atau 3 saja.\")"
      ],
      "metadata": {
        "id": "6Np-oS9QuCh9",
        "colab": {
          "base_uri": "https://localhost:8080/"
        },
        "outputId": "67384e76-d59a-4846-e526-b9ceb3a215f8"
      },
      "execution_count": 22,
      "outputs": [
        {
          "output_type": "stream",
          "name": "stdout",
          "text": [
            "Pilih bangun datar yang ingin dihitung luasnya:\n",
            "1. Luas Persegi: \n",
            "2. Luas Lingkaran: \n",
            "3. Luas Segitiga: \n",
            "Masukkan pilihan (1/2/3): 1\n",
            "Masukkan panjang sisi: 12\n",
            "Luas persegi adalah 144.0\n"
          ]
        }
      ]
    }
  ]
}