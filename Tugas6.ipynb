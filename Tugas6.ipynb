{
  "nbformat": 4,
  "nbformat_minor": 0,
  "metadata": {
    "colab": {
      "provenance": [],
      "authorship_tag": "ABX9TyNa/tLb5XGuPohGYcFBrB3h",
      "include_colab_link": true
    },
    "kernelspec": {
      "name": "python3",
      "display_name": "Python 3"
    },
    "language_info": {
      "name": "python"
    }
  },
  "cells": [
    {
      "cell_type": "markdown",
      "metadata": {
        "id": "view-in-github",
        "colab_type": "text"
      },
      "source": [
        "<a href=\"https://colab.research.google.com/github/wiratahelmi469-web1/Tugas-ddp/blob/main/Tugas6.ipynb\" target=\"_parent\"><img src=\"https://colab.research.google.com/assets/colab-badge.svg\" alt=\"Open In Colab\"/></a>"
      ]
    },
    {
      "cell_type": "code",
      "execution_count": 12,
      "metadata": {
        "id": "F5c683dcorIH"
      },
      "outputs": [],
      "source": [
        "\n",
        "numbers = [\n",
        "    951, 402, 984, 651, 360, 69, 408, 319, 601, 485, 980, 507, 725,\n",
        "    547, 544, 615, 83, 165, 141, 501, 263, 617, 865, 575, 219, 390,\n",
        "    984, 592, 236, 105, 942, 941, 386, 462, 47, 418, 907, 344, 236,\n",
        "    375, 823, 566, 597, 978, 328, 615, 953, 345, 399, 162, 758, 219,\n",
        "    918, 237, 412, 566, 826, 248, 866, 950, 626, 949, 687, 217, 815,\n",
        "    67, 104, 58, 512, 24, 892, 894, 767, 553, 81, 379, 843, 831, 445,\n",
        "    742, 717, 958, 609, 842, 451, 688, 753, 854, 685, 93, 857, 440,\n",
        "    380, 126, 721, 328, 753, 470, 743, 527\n",
        "]\n",
        "\n",
        "i = 0\n",
        "while i <= len(numbers):\n",
        "    if num >= 553:\n",
        "        break\n",
        "    if num % 2 != 0:\n",
        "        print(num)\n",
        "    i += 1\n",
        "else:\n",
        "    print(\"Perulangan selesai\")"
      ]
    },
    {
      "cell_type": "code",
      "source": [
        "numbers = [\n",
        "    951, 402, 984, 651, 360, 69, 408, 319, 601, 485, 980, 507, 725,\n",
        "    547, 544, 615, 83, 165, 141, 501, 263, 617, 865, 575, 219, 390,\n",
        "    984, 592, 236, 105, 942, 941, 386, 462, 47, 418, 907, 344, 236,\n",
        "    375, 823, 566, 597, 978, 328, 615, 953, 345, 399, 162, 758, 219,\n",
        "    918, 237, 412, 566, 826, 248, 866, 950, 626, 949, 687, 217, 815,\n",
        "    67, 104, 58, 512, 24, 892, 894, 767, 553, 81, 379, 843, 831, 445,\n",
        "    742, 717, 958, 609, 842, 451, 688, 753, 854, 685, 93, 857, 440,\n",
        "    380, 126, 721, 328, 753, 470, 743, 527\n",
        "]\n",
        "\n",
        "i = 0\n",
        "while i < len(numbers):\n",
        "    num = numbers[i]\n",
        "    if num == 553:\n",
        "        break\n",
        "    if num % 2 != 0:\n",
        "        print(num)\n",
        "    i += 1\n",
        "else:\n",
        "    print(\"Perulangan selesai\")"
      ],
      "metadata": {
        "colab": {
          "base_uri": "https://localhost:8080/"
        },
        "id": "F__SlTAK7Ogd",
        "outputId": "0aac9212-d303-4434-9661-5f5382741f48"
      },
      "execution_count": 13,
      "outputs": [
        {
          "output_type": "stream",
          "name": "stdout",
          "text": [
            "951\n",
            "651\n",
            "69\n",
            "319\n",
            "601\n",
            "485\n",
            "507\n",
            "725\n",
            "547\n",
            "615\n",
            "83\n",
            "165\n",
            "141\n",
            "501\n",
            "263\n",
            "617\n",
            "865\n",
            "575\n",
            "219\n",
            "105\n",
            "941\n",
            "47\n",
            "907\n",
            "375\n",
            "823\n",
            "597\n",
            "615\n",
            "953\n",
            "345\n",
            "399\n",
            "219\n",
            "237\n",
            "949\n",
            "687\n",
            "217\n",
            "815\n",
            "67\n",
            "767\n"
          ]
        }
      ]
    },
    {
      "cell_type": "code",
      "source": [
        "a = 0\n",
        "i = 1\n",
        "\n",
        "while i <= 19:\n",
        "    a += i\n",
        "    i += 2\n",
        "\n",
        "print(\"Jumlah =\", a)"
      ],
      "metadata": {
        "colab": {
          "base_uri": "https://localhost:8080/"
        },
        "id": "sSb56-UfpyL-",
        "outputId": "214988a9-326c-46e7-b892-e5f9db22135d"
      },
      "execution_count": 8,
      "outputs": [
        {
          "output_type": "stream",
          "name": "stdout",
          "text": [
            "Jumlah = 100\n"
          ]
        }
      ]
    },
    {
      "cell_type": "code",
      "source": [
        "a = int(input(\"Masukkan jumlah baris: \"))\n",
        "\n",
        "for i in range(1, a + 1):\n",
        "    print(\"*\" * i)"
      ],
      "metadata": {
        "colab": {
          "base_uri": "https://localhost:8080/"
        },
        "id": "W1Sj9QkjqdfM",
        "outputId": "dc901d26-279e-4b97-845e-919f225f044a"
      },
      "execution_count": 14,
      "outputs": [
        {
          "output_type": "stream",
          "name": "stdout",
          "text": [
            "Masukkan jumlah baris: 4\n",
            "*\n",
            "**\n",
            "***\n",
            "****\n"
          ]
        }
      ]
    }
  ]
}